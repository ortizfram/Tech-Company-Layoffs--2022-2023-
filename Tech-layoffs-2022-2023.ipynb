{
 "cells": [
  {
   "cell_type": "markdown",
   "id": "9ba68378-be15-4e86-b0f1-3bb1d79fd5c8",
   "metadata": {},
   "source": [
    "Franco Ortiz : Data Scientist\n",
    "\n",
    "**Tech layoffs investigation**\n",
    "\n",
    "Interesting Task Ideas:\n",
    "- Visualizing current layoffs trends based on months\n",
    "- Identifying which locations are most impacted\n",
    "- Whether IPO status affects severity of layoffs"
   ]
  },
  {
   "cell_type": "code",
   "execution_count": 1,
   "id": "03043024-846e-47e9-9924-3319920ce9a1",
   "metadata": {},
   "outputs": [],
   "source": [
    "url = 'https://www.kaggle.com/datasets/salimwid/technology-company-layoffs-20222023-data'"
   ]
  },
  {
   "cell_type": "markdown",
   "id": "0a841285-888c-431d-bae5-5d279567962d",
   "metadata": {},
   "source": [
    "#### modules"
   ]
  },
  {
   "cell_type": "code",
   "execution_count": 43,
   "id": "261675eb-8137-4e0c-8e69-685037409a76",
   "metadata": {},
   "outputs": [],
   "source": [
    "import pandas as pd\n",
    "import numpy as np\n",
    "import matplotlib.pyplot as plt\n",
    "%matplotlib inline\n",
    "import seaborn as sns"
   ]
  },
  {
   "cell_type": "markdown",
   "id": "88284206-4ab5-4ebd-8330-fa50c5ffe41e",
   "metadata": {},
   "source": [
    "#### data"
   ]
  },
  {
   "cell_type": "code",
   "execution_count": 33,
   "id": "3bdd8162-4900-4d57-aedf-aa4308eed56a",
   "metadata": {},
   "outputs": [
    {
     "data": {
      "text/html": [
       "<div>\n",
       "<style scoped>\n",
       "    .dataframe tbody tr th:only-of-type {\n",
       "        vertical-align: middle;\n",
       "    }\n",
       "\n",
       "    .dataframe tbody tr th {\n",
       "        vertical-align: top;\n",
       "    }\n",
       "\n",
       "    .dataframe thead th {\n",
       "        text-align: right;\n",
       "    }\n",
       "</style>\n",
       "<table border=\"1\" class=\"dataframe\">\n",
       "  <thead>\n",
       "    <tr style=\"text-align: right;\">\n",
       "      <th></th>\n",
       "      <th>company</th>\n",
       "      <th>total_layoffs</th>\n",
       "      <th>impacted_workforce_percentage</th>\n",
       "      <th>reported_date</th>\n",
       "      <th>industry</th>\n",
       "      <th>headquarter_location</th>\n",
       "      <th>sources</th>\n",
       "      <th>status</th>\n",
       "      <th>additional_notes</th>\n",
       "    </tr>\n",
       "  </thead>\n",
       "  <tbody>\n",
       "    <tr>\n",
       "      <th>0</th>\n",
       "      <td>C2FO</td>\n",
       "      <td>20</td>\n",
       "      <td>2</td>\n",
       "      <td>12/9/2022</td>\n",
       "      <td>Fintech, payments</td>\n",
       "      <td>Leawood, KS</td>\n",
       "      <td>Kansas City Business Journal</td>\n",
       "      <td>Private</td>\n",
       "      <td>NaN</td>\n",
       "    </tr>\n",
       "    <tr>\n",
       "      <th>1</th>\n",
       "      <td>VideoAmp</td>\n",
       "      <td>Unclear</td>\n",
       "      <td>2</td>\n",
       "      <td>9/19/2022</td>\n",
       "      <td>Advertising platforms</td>\n",
       "      <td>Los Angeles</td>\n",
       "      <td>Company memo</td>\n",
       "      <td>Private</td>\n",
       "      <td>NaN</td>\n",
       "    </tr>\n",
       "    <tr>\n",
       "      <th>2</th>\n",
       "      <td>Amperity</td>\n",
       "      <td>13</td>\n",
       "      <td>3</td>\n",
       "      <td>8/20/2022</td>\n",
       "      <td>Saas, analytics</td>\n",
       "      <td>Seattle</td>\n",
       "      <td>Geekwire</td>\n",
       "      <td>Private</td>\n",
       "      <td>NaN</td>\n",
       "    </tr>\n",
       "    <tr>\n",
       "      <th>3</th>\n",
       "      <td>Addepar</td>\n",
       "      <td>20</td>\n",
       "      <td>3</td>\n",
       "      <td>1/18/2023</td>\n",
       "      <td>fintech, data analytics</td>\n",
       "      <td>Mountain View, CA</td>\n",
       "      <td>Fortune</td>\n",
       "      <td>Private</td>\n",
       "      <td>NaN</td>\n",
       "    </tr>\n",
       "    <tr>\n",
       "      <th>4</th>\n",
       "      <td>Thirty Madison</td>\n",
       "      <td>24</td>\n",
       "      <td>3</td>\n",
       "      <td>5/13/2022</td>\n",
       "      <td>Health Care</td>\n",
       "      <td>New York</td>\n",
       "      <td>Axios</td>\n",
       "      <td>Private</td>\n",
       "      <td>Per Axios, 22 of the employees laid off were f...</td>\n",
       "    </tr>\n",
       "  </tbody>\n",
       "</table>\n",
       "</div>"
      ],
      "text/plain": [
       "          company total_layoffs impacted_workforce_percentage reported_date  \\\n",
       "0            C2FO            20                             2     12/9/2022   \n",
       "1        VideoAmp       Unclear                             2     9/19/2022   \n",
       "2        Amperity            13                             3     8/20/2022   \n",
       "3         Addepar            20                             3     1/18/2023   \n",
       "4  Thirty Madison            24                             3     5/13/2022   \n",
       "\n",
       "                  industry headquarter_location                       sources  \\\n",
       "0        Fintech, payments          Leawood, KS  Kansas City Business Journal   \n",
       "1    Advertising platforms          Los Angeles                  Company memo   \n",
       "2          Saas, analytics              Seattle                      Geekwire   \n",
       "3  fintech, data analytics    Mountain View, CA                       Fortune   \n",
       "4              Health Care             New York                         Axios   \n",
       "\n",
       "    status                                   additional_notes  \n",
       "0  Private                                                NaN  \n",
       "1  Private                                                NaN  \n",
       "2  Private                                                NaN  \n",
       "3  Private                                                NaN  \n",
       "4  Private  Per Axios, 22 of the employees laid off were f...  "
      ]
     },
     "execution_count": 33,
     "metadata": {},
     "output_type": "execute_result"
    }
   ],
   "source": [
    "data = pd.read_csv('data/tech_layoffs.csv')\n",
    "data.head()"
   ]
  },
  {
   "cell_type": "code",
   "execution_count": 4,
   "id": "8fb8ba6e-d8e1-4ab2-8782-85c79471d1ea",
   "metadata": {},
   "outputs": [
    {
     "data": {
      "text/plain": [
       "Index(['company', 'total_layoffs', 'impacted_workforce_percentage',\n",
       "       'reported_date', 'industry', 'headquarter_location', 'sources',\n",
       "       'status', 'additional_notes'],\n",
       "      dtype='object')"
      ]
     },
     "execution_count": 4,
     "metadata": {},
     "output_type": "execute_result"
    }
   ],
   "source": [
    "columns = data.columns\n",
    "columns"
   ]
  },
  {
   "cell_type": "markdown",
   "id": "57762074-bf74-4854-835d-98e781d51c6e",
   "metadata": {},
   "source": [
    "## Preprocess"
   ]
  },
  {
   "cell_type": "code",
   "execution_count": 37,
   "id": "c0742b83-324b-4a70-b880-c68dd43c2926",
   "metadata": {},
   "outputs": [],
   "source": [
    "data['date'] = pd.to_datetime(data['reported_date'])\n",
    "data['month'] = data['date'].dt.month\n",
    "data['year'] = pd.to_datetime(data['date']).dt.strftime('%Y')"
   ]
  },
  {
   "cell_type": "markdown",
   "id": "30a5397d-78c7-4261-ac14-250ac9f7471e",
   "metadata": {},
   "source": [
    "#### Check for nun values"
   ]
  },
  {
   "cell_type": "code",
   "execution_count": 38,
   "id": "cb6bc87d-7582-41f2-92b1-4da41fe21bba",
   "metadata": {},
   "outputs": [
    {
     "data": {
      "text/plain": [
       "company                            0\n",
       "total_layoffs                      0\n",
       "impacted_workforce_percentage      0\n",
       "reported_date                      0\n",
       "industry                           0\n",
       "headquarter_location               0\n",
       "sources                            0\n",
       "status                             0\n",
       "additional_notes                 467\n",
       "date                               0\n",
       "month                              0\n",
       "year                               0\n",
       "dtype: int64"
      ]
     },
     "execution_count": 38,
     "metadata": {},
     "output_type": "execute_result"
    }
   ],
   "source": [
    "data.isnull().sum()"
   ]
  },
  {
   "cell_type": "markdown",
   "id": "4ea6e08c-a09d-4fb1-b2c4-005c1b3f53bc",
   "metadata": {},
   "source": [
    "- We wont lose any important data related to EDA (Exploratory Data Analysis) if we drop the 'additional_notes' column"
   ]
  },
  {
   "cell_type": "code",
   "execution_count": 42,
   "id": "b06858e6-f913-48ae-8dc6-27facfcbf209",
   "metadata": {},
   "outputs": [],
   "source": [
    "data.drop('additional_notes', inplace=True, axis=1)"
   ]
  },
  {
   "cell_type": "markdown",
   "id": "1d42e03e-e179-45d4-b0b9-63fc3054453e",
   "metadata": {},
   "source": [
    "#### Check for value anomalies"
   ]
  },
  {
   "cell_type": "markdown",
   "id": "abd24a44-1633-4fed-b794-3bd24f73454a",
   "metadata": {},
   "source": [
    "looking for non numeric cols"
   ]
  },
  {
   "cell_type": "code",
   "execution_count": 44,
   "id": "4a180645-29f8-4a08-8d4b-d5fe126d362c",
   "metadata": {},
   "outputs": [
    {
     "name": "stdout",
     "output_type": "stream",
     "text": [
      "company\n",
      "total_layoffs\n",
      "impacted_workforce_percentage\n",
      "reported_date\n",
      "industry\n",
      "headquarter_location\n",
      "sources\n",
      "status\n",
      "date\n",
      "year\n"
     ]
    }
   ],
   "source": [
    "from pandas.api.types import is_numeric_dtype\n",
    "\n",
    "num_cols = ['total_layoffs','impacted_workforce_percentage']\n",
    "cols = data.columns\n",
    "for i in cols:\n",
    "    if is_numeric_dtype(data[i]) == False:\n",
    "        print(i)"
   ]
  },
  {
   "cell_type": "markdown",
   "id": "5880b528-5184-440b-abf2-f987ffeb2899",
   "metadata": {},
   "source": [
    "- Looks like all columns have string characters. We need to be careful about this while on EDA"
   ]
  },
  {
   "cell_type": "code",
   "execution_count": 55,
   "id": "554970e6-d967-46dd-9cff-488274fd1576",
   "metadata": {},
   "outputs": [],
   "source": [
    "ind = []\n",
    "for i in data['industry'].to_list():\n",
    "    ind.append(i.split(' ')[-1])\n",
    "    \n",
    "ind = [x.lower() for x in ind]\n",
    "ind = [x.replace(\"-\", \"\") for x in ind]\n",
    "\n",
    "data['industry'] = ind"
   ]
  },
  {
   "cell_type": "code",
   "execution_count": 56,
   "id": "9af36581-0299-4158-9137-85051ebddfaf",
   "metadata": {},
   "outputs": [],
   "source": [
    "ind = []\n",
    "for i in data['headquarter_location'].to_list():\n",
    "    ind.append(i.split(',')[-1])\n",
    "    \n",
    "ind = [x.lower() for x in ind]\n",
    "ind = [x.replace(\"-\", \"\") for x in ind]\n",
    "ind = [x.replace(\" \", \"\") for x in ind]\n",
    "\n",
    "data['headquarter_location'] = ind"
   ]
  },
  {
   "cell_type": "code",
   "execution_count": 58,
   "id": "1105a028-d7b1-42a5-a85b-7a04adfae052",
   "metadata": {},
   "outputs": [],
   "source": [
    "data.drop('sources',inplace=True, axis=1)"
   ]
  },
  {
   "cell_type": "markdown",
   "id": "b862b371-5182-4d93-9c93-258b5b7e1833",
   "metadata": {},
   "source": [
    "#### EDA\n",
    "This checks if the element is a number or not, then it will check if the element is numeric or not, if not it will assign 0 to it, if yes it will convert it to int and assign it to the element.\n",
    "\n",
    "then plot"
   ]
  },
  {
   "cell_type": "code",
   "execution_count": 66,
   "id": "5272377b-5457-499d-aab7-97cabc5a3c43",
   "metadata": {},
   "outputs": [
    {
     "data": {
      "image/png": "[encoded data removed]",
      "text/plain": [
       "<Figure size 500x300 with 1 Axes>"
      ]
     },
     "metadata": {},
     "output_type": "display_data"
    }
   ],
   "source": [
    "data['total_layoffs'] = data['total_layoffs'].apply(lambda x: 0 if (not isinstance(x, (int,float)) or not str(x).isnumeric()) else int(x))\n",
    "\n",
    "plt.figure(figsize=(5,3))\n",
    "sns.kdeplot(x=data['total_layoffs'])\n",
    "plt.title('Number of Layoffs')\n",
    "plt.show()"
   ]
  },
  {
   "cell_type": "code",
   "execution_count": 69,
   "id": "f5797c84-be35-4b93-8622-e6221c849170",
   "metadata": {},
   "outputs": [
    {
     "data": {
      "image/png": "[encoded data removed]",
      "text/plain": [
       "<Figure size 1000x300 with 1 Axes>"
      ]
     },
     "metadata": {},
     "output_type": "display_data"
    }
   ],
   "source": [
    "top_10 = data.sort_values('total_layoffs',ascending=False).head(10)\n",
    "\n",
    "fig, ax = plt.subplots(figsize=(10, 3))\n",
    "p=sns.barplot(x=\"total_layoffs\", y=\"company\", data=top_10,\n",
    "              ax=ax)\n",
    "for container in p.containers:\n",
    "    p.bar_label(container,padding=-80)\n",
    "plt.title(\"Top 10 Layoff Companies\")\n",
    "plt.xlabel('Layoffs')\n",
    "plt.ylabel('Name')\n",
    "plt.show()"
   ]
  }
 ],
 "metadata": {
  "kernelspec": {
   "display_name": "Python 3 (ipykernel)",
   "language": "python",
   "name": "python3"
  },
  "language_info": {
   "codemirror_mode": {
    "name": "ipython",
    "version": 3
   },
   "file_extension": ".py",
   "mimetype": "text/x-python",
   "name": "python",
   "nbconvert_exporter": "python",
   "pygments_lexer": "ipython3",
   "version": "3.10.6"
  }
 },
 "nbformat": 4,
 "nbformat_minor": 5
}
