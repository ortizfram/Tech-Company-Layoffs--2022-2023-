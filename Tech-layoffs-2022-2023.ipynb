{
 "cells": [
  {
   "cell_type": "markdown",
   "id": "9ba68378-be15-4e86-b0f1-3bb1d79fd5c8",
   "metadata": {},
   "source": [
    "Franco Ortiz : Data Scientist\n",
    "\n",
    "Interesting Task Ideas:\n",
    "- Visualizing current layoffs trends based on months\n",
    "- Identifying which locations are most impacted\n",
    "- Whether IPO status affects severity of layoffs"
   ]
  },
  {
   "cell_type": "code",
   "execution_count": 17,
   "id": "03043024-846e-47e9-9924-3319920ce9a1",
   "metadata": {},
   "outputs": [],
   "source": [
    "url = 'https://www.kaggle.com/datasets/salimwid/technology-company-layoffs-20222023-data'"
   ]
  },
  {
   "cell_type": "markdown",
   "id": "0a841285-888c-431d-bae5-5d279567962d",
   "metadata": {},
   "source": [
    "#### modules"
   ]
  },
  {
   "cell_type": "code",
   "execution_count": 16,
   "id": "261675eb-8137-4e0c-8e69-685037409a76",
   "metadata": {},
   "outputs": [],
   "source": [
    "import pandas as pd\n",
    "import numpy as np\n",
    "import matplotlib.pyplot as plt\n",
    "\n",
    "from sklearn import tree\n",
    "from sklearn.model_selection import train_test_split\n",
    "from sklearn.tree import DecisionTreeRegressor"
   ]
  },
  {
   "cell_type": "markdown",
   "id": "88284206-4ab5-4ebd-8330-fa50c5ffe41e",
   "metadata": {},
   "source": [
    "#### data"
   ]
  },
  {
   "cell_type": "code",
   "execution_count": 13,
   "id": "3bdd8162-4900-4d57-aedf-aa4308eed56a",
   "metadata": {},
   "outputs": [
    {
     "data": {
      "text/html": [
       "<div>\n",
       "<style scoped>\n",
       "    .dataframe tbody tr th:only-of-type {\n",
       "        vertical-align: middle;\n",
       "    }\n",
       "\n",
       "    .dataframe tbody tr th {\n",
       "        vertical-align: top;\n",
       "    }\n",
       "\n",
       "    .dataframe thead th {\n",
       "        text-align: right;\n",
       "    }\n",
       "</style>\n",
       "<table border=\"1\" class=\"dataframe\">\n",
       "  <thead>\n",
       "    <tr style=\"text-align: right;\">\n",
       "      <th></th>\n",
       "      <th>company</th>\n",
       "      <th>total_layoffs</th>\n",
       "      <th>impacted_workforce_percentage</th>\n",
       "      <th>reported_date</th>\n",
       "      <th>industry</th>\n",
       "      <th>headquarter_location</th>\n",
       "      <th>sources</th>\n",
       "      <th>status</th>\n",
       "      <th>additional_notes</th>\n",
       "    </tr>\n",
       "  </thead>\n",
       "  <tbody>\n",
       "    <tr>\n",
       "      <th>0</th>\n",
       "      <td>C2FO</td>\n",
       "      <td>20</td>\n",
       "      <td>2</td>\n",
       "      <td>2022-12-09</td>\n",
       "      <td>Fintech, payments</td>\n",
       "      <td>Leawood, KS</td>\n",
       "      <td>Kansas City Business Journal</td>\n",
       "      <td>Private</td>\n",
       "      <td>NaN</td>\n",
       "    </tr>\n",
       "    <tr>\n",
       "      <th>1</th>\n",
       "      <td>VideoAmp</td>\n",
       "      <td>Unclear</td>\n",
       "      <td>2</td>\n",
       "      <td>2022-09-19</td>\n",
       "      <td>Advertising platforms</td>\n",
       "      <td>Los Angeles</td>\n",
       "      <td>Company memo</td>\n",
       "      <td>Private</td>\n",
       "      <td>NaN</td>\n",
       "    </tr>\n",
       "    <tr>\n",
       "      <th>2</th>\n",
       "      <td>Amperity</td>\n",
       "      <td>13</td>\n",
       "      <td>3</td>\n",
       "      <td>2022-08-20</td>\n",
       "      <td>Saas, analytics</td>\n",
       "      <td>Seattle</td>\n",
       "      <td>Geekwire</td>\n",
       "      <td>Private</td>\n",
       "      <td>NaN</td>\n",
       "    </tr>\n",
       "    <tr>\n",
       "      <th>3</th>\n",
       "      <td>Addepar</td>\n",
       "      <td>20</td>\n",
       "      <td>3</td>\n",
       "      <td>2023-01-18</td>\n",
       "      <td>fintech, data analytics</td>\n",
       "      <td>Mountain View, CA</td>\n",
       "      <td>Fortune</td>\n",
       "      <td>Private</td>\n",
       "      <td>NaN</td>\n",
       "    </tr>\n",
       "    <tr>\n",
       "      <th>4</th>\n",
       "      <td>Thirty Madison</td>\n",
       "      <td>24</td>\n",
       "      <td>3</td>\n",
       "      <td>2022-05-13</td>\n",
       "      <td>Health Care</td>\n",
       "      <td>New York</td>\n",
       "      <td>Axios</td>\n",
       "      <td>Private</td>\n",
       "      <td>Per Axios, 22 of the employees laid off were f...</td>\n",
       "    </tr>\n",
       "  </tbody>\n",
       "</table>\n",
       "</div>"
      ],
      "text/plain": [
       "          company total_layoffs impacted_workforce_percentage reported_date  \\\n",
       "0            C2FO            20                             2    2022-12-09   \n",
       "1        VideoAmp       Unclear                             2    2022-09-19   \n",
       "2        Amperity            13                             3    2022-08-20   \n",
       "3         Addepar            20                             3    2023-01-18   \n",
       "4  Thirty Madison            24                             3    2022-05-13   \n",
       "\n",
       "                  industry headquarter_location                       sources  \\\n",
       "0        Fintech, payments          Leawood, KS  Kansas City Business Journal   \n",
       "1    Advertising platforms          Los Angeles                  Company memo   \n",
       "2          Saas, analytics              Seattle                      Geekwire   \n",
       "3  fintech, data analytics    Mountain View, CA                       Fortune   \n",
       "4              Health Care             New York                         Axios   \n",
       "\n",
       "    status                                   additional_notes  \n",
       "0  Private                                                NaN  \n",
       "1  Private                                                NaN  \n",
       "2  Private                                                NaN  \n",
       "3  Private                                                NaN  \n",
       "4  Private  Per Axios, 22 of the employees laid off were f...  "
      ]
     },
     "execution_count": 13,
     "metadata": {},
     "output_type": "execute_result"
    }
   ],
   "source": [
    "data = pd.read_csv('data/tech_layoffs.csv', parse_dates= ['reported_date'])\n",
    "data.head()"
   ]
  },
  {
   "cell_type": "code",
   "execution_count": 21,
   "id": "8fb8ba6e-d8e1-4ab2-8782-85c79471d1ea",
   "metadata": {},
   "outputs": [
    {
     "data": {
      "text/plain": [
       "Index(['company', 'total_layoffs', 'impacted_workforce_percentage',\n",
       "       'reported_date', 'industry', 'headquarter_location', 'sources',\n",
       "       'status', 'additional_notes'],\n",
       "      dtype='object')"
      ]
     },
     "execution_count": 21,
     "metadata": {},
     "output_type": "execute_result"
    }
   ],
   "source": [
    "columns = data.columns\n",
    "columns"
   ]
  },
  {
   "cell_type": "markdown",
   "id": "03291d08-838d-4ef2-9434-19e9e99d80bf",
   "metadata": {},
   "source": [
    "#### supervised learning\n",
    " separating your full data set into “Features” and “Target.”"
   ]
  },
  {
   "cell_type": "code",
   "execution_count": 14,
   "id": "52a593b7-219d-4a67-b04a-02d409eeb702",
   "metadata": {},
   "outputs": [
    {
     "name": "stdout",
     "output_type": "stream",
     "text": [
      "Number of rows in training data: 489\n"
     ]
    },
    {
     "ename": "NameError",
     "evalue": "name 'test_data' is not defined",
     "output_type": "error",
     "traceback": [
      "\u001b[1;31m---------------------------------------------------------------------------\u001b[0m",
      "\u001b[1;31mNameError\u001b[0m                                 Traceback (most recent call last)",
      "Cell \u001b[1;32mIn[14], line 3\u001b[0m\n\u001b[0;32m      1\u001b[0m \u001b[38;5;66;03m# print shapes\u001b[39;00m\n\u001b[0;32m      2\u001b[0m \u001b[38;5;28mprint\u001b[39m(\u001b[38;5;124mf\u001b[39m\u001b[38;5;124m\"\u001b[39m\u001b[38;5;124mNumber of rows in training data: \u001b[39m\u001b[38;5;132;01m{\u001b[39;00mdata\u001b[38;5;241m.\u001b[39mshape[\u001b[38;5;241m0\u001b[39m]\u001b[38;5;132;01m}\u001b[39;00m\u001b[38;5;124m\"\u001b[39m)\n\u001b[1;32m----> 3\u001b[0m \u001b[38;5;28mprint\u001b[39m(\u001b[38;5;124mf\u001b[39m\u001b[38;5;124m\"\u001b[39m\u001b[38;5;124mNumber of rows in test data: \u001b[39m\u001b[38;5;132;01m{\u001b[39;00m\u001b[43mtest_data\u001b[49m\u001b[38;5;241m.\u001b[39mshape[\u001b[38;5;241m0\u001b[39m]\u001b[38;5;132;01m}\u001b[39;00m\u001b[38;5;124m\"\u001b[39m)\n",
      "\u001b[1;31mNameError\u001b[0m: name 'test_data' is not defined"
     ]
    }
   ],
   "source": [
    "# print shapes\n",
    "print(f\"Number of rows in training data: {data.shape[0]}\")\n",
    "print(f\"Number of rows in test data: {test_data.shape[0]}\")"
   ]
  }
 ],
 "metadata": {
  "kernelspec": {
   "display_name": "Python 3 (ipykernel)",
   "language": "python",
   "name": "python3"
  },
  "language_info": {
   "codemirror_mode": {
    "name": "ipython",
    "version": 3
   },
   "file_extension": ".py",
   "mimetype": "text/x-python",
   "name": "python",
   "nbconvert_exporter": "python",
   "pygments_lexer": "ipython3",
   "version": "3.10.7"
  }
 },
 "nbformat": 4,
 "nbformat_minor": 5
}
